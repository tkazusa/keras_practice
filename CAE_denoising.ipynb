{
  "nbformat": 4,
  "nbformat_minor": 0,
  "metadata": {
    "colab": {
      "name": "CAE_denoising.ipynb",
      "version": "0.3.2",
      "provenance": [],
      "toc_visible": true,
      "include_colab_link": true
    },
    "kernelspec": {
      "name": "python3",
      "display_name": "Python 3"
    },
    "accelerator": "TPU"
  },
  "cells": [
    {
      "cell_type": "markdown",
      "metadata": {
        "id": "view-in-github",
        "colab_type": "text"
      },
      "source": [
        "<a href=\"https://colab.research.google.com/github/tkazusa/keras_practice/blob/master/CAE_denoising.ipynb\" target=\"_parent\"><img src=\"https://colab.research.google.com/assets/colab-badge.svg\" alt=\"Open In Colab\"/></a>"
      ]
    },
    {
      "metadata": {
        "id": "SwPYq6lrQ6Qr",
        "colab_type": "text"
      },
      "cell_type": "markdown",
      "source": [
        "# CAEを使ったノイズ除去"
      ]
    },
    {
      "metadata": {
        "id": "eXx02x7oQ6Q0",
        "colab_type": "code",
        "colab": {}
      },
      "cell_type": "code",
      "source": [
        "import os\n",
        "import glob\n",
        "import math\n",
        "import random\n",
        "\n",
        "import numpy as np\n",
        "import matplotlib.pyplot as plt\n",
        "\n",
        "import tensorflow as tf\n",
        "from tensorflow.keras import backend as K\n",
        "from tensorflow.keras.models import Model, Sequential\n",
        "from tensorflow.keras.preprocessing.image import load_img, img_to_array, array_to_img\n",
        "from tensorflow.keras.layers import Conv2D, Dense, Input, MaxPooling2D, UpSampling2D, Lambda"
      ],
      "execution_count": 0,
      "outputs": []
    },
    {
      "metadata": {
        "id": "SJqDh08ZQ6Q_",
        "colab_type": "text"
      },
      "cell_type": "markdown",
      "source": [
        "### MNISTデータセットの読み込みと前処理"
      ]
    },
    {
      "metadata": {
        "id": "atux-acyQ6RB",
        "colab_type": "code",
        "outputId": "fe5b354e-20c2-4412-e6ed-e440ec9f847b",
        "colab": {
          "base_uri": "https://localhost:8080/",
          "height": 71
        }
      },
      "cell_type": "code",
      "source": [
        "from tensorflow.keras.datasets import mnist\n",
        "\n",
        "\n",
        "(x_train, _), (x_test, _) = mnist.load_data() \n",
        "# CNNで扱いやすい形に変換\n",
        "x_train = x_train.reshape(-1, 28, 28, 1) \n",
        "x_test = x_test.reshape(-1, 28, 28, 1) \n",
        "# 画像を0-1の範囲に正規化\n",
        "x_train = x_train/255. \n",
        "x_test = x_test/255. "
      ],
      "execution_count": 5,
      "outputs": [
        {
          "output_type": "stream",
          "text": [
            "Downloading data from https://storage.googleapis.com/tensorflow/tf-keras-datasets/mnist.npz\n",
            "11493376/11490434 [==============================] - 0s 0us/step\n"
          ],
          "name": "stdout"
        }
      ]
    },
    {
      "metadata": {
        "id": "SFKO0ly0Q6RH",
        "colab_type": "code",
        "outputId": "7eb2b461-7b30-45cf-e8ce-1336b2b2057f",
        "colab": {
          "base_uri": "https://localhost:8080/",
          "height": 45
        }
      },
      "cell_type": "code",
      "source": [
        "array_to_img(x_train[0])"
      ],
      "execution_count": 6,
      "outputs": [
        {
          "output_type": "execute_result",
          "data": {
            "image/png": "[encoded data removed]",
            "text/plain": [
              "<PIL.Image.Image image mode=L size=28x28 at 0x7F9AF0F7CC50>"
            ]
          },
          "metadata": {
            "tags": []
          },
          "execution_count": 6
        }
      ]
    },
    {
      "metadata": {
        "id": "mUJq0rQLQ6RO",
        "colab_type": "text"
      },
      "cell_type": "markdown",
      "source": [
        "### マスキングノイズを加えて、擬似ノイズデータを生成"
      ]
    },
    {
      "metadata": {
        "id": "GssmeOtMQ6RP",
        "colab_type": "code",
        "colab": {}
      },
      "cell_type": "code",
      "source": [
        "def make_masking_noise_data(data_x, percent=0.1):\n",
        "    size = data_x.shape\n",
        "    masking = np.random.binomial(n=1, p=percent, size=size)\n",
        "    return data_x*masking\n",
        "\n",
        "x_train_masked = make_masking_noise_data(x_train)\n",
        "x_test_masked = make_masking_noise_data(x_test)"
      ],
      "execution_count": 0,
      "outputs": []
    },
    {
      "metadata": {
        "id": "AZUoSM-7Q6RU",
        "colab_type": "text"
      },
      "cell_type": "markdown",
      "source": [
        "### ガウシアンノイズを加えて、擬似ノイズデータを生成"
      ]
    },
    {
      "metadata": {
        "id": "mG06agRaQ6RW",
        "colab_type": "code",
        "colab": {}
      },
      "cell_type": "code",
      "source": [
        "def make_gaussian_noise_data(data_x, scale=0.8):\n",
        "    gaussian_data_x = data_x + np.random.normal(loc=0, scale=scale, size=data_x.shape)\n",
        "    gaussian_data_x = np.clip(gaussian_data_x, 0, 1)\n",
        "    return gaussian_data_x\n",
        "\n",
        "x_train_gauss = make_gaussian_noise_data(x_train)\n",
        "x_test_gauss = make_gaussian_noise_data(x_test)"
      ],
      "execution_count": 0,
      "outputs": []
    },
    {
      "metadata": {
        "id": "32S1LCKAQ6Rb",
        "colab_type": "text"
      },
      "cell_type": "markdown",
      "source": [
        "### ノイズを加えた画像とオリジナル画像との比較"
      ]
    },
    {
      "metadata": {
        "id": "p-pTis-oQ6Rd",
        "colab_type": "code",
        "colab": {}
      },
      "cell_type": "code",
      "source": [
        "from IPython.display import display_png\n",
        "\n",
        "\n",
        "display_png(array_to_img(x_train[0]))\n",
        "display_png(array_to_img(x_train_gauss[0]))\n",
        "display_png(array_to_img(x_train_masked[0]))"
      ],
      "execution_count": 0,
      "outputs": []
    },
    {
      "metadata": {
        "id": "qn4bHfytQ6Rk",
        "colab_type": "text"
      },
      "cell_type": "markdown",
      "source": [
        "### CAEモデルの構築"
      ]
    },
    {
      "metadata": {
        "id": "mnF8ZbZ5Q6Rm",
        "colab_type": "code",
        "outputId": "483b60bc-f0f7-4f3e-b25d-19224a2b5b8c",
        "colab": {
          "base_uri": "https://localhost:8080/",
          "height": 442
        }
      },
      "cell_type": "code",
      "source": [
        "def build_autoencoder():\n",
        "  autoencoder = Sequential()\n",
        "\n",
        "  # Encoder\n",
        "  autoencoder.add(Conv2D(16, (3, 3), 1, activation='relu', padding='same', input_shape=(28, 28, 1)))\n",
        "  autoencoder.add(MaxPooling2D((2, 2), padding='same'))\n",
        "  autoencoder.add(Conv2D(8, (3, 3), 1, activation='relu', padding='same'))\n",
        "  autoencoder.add(MaxPooling2D((2, 2), padding='same'))\n",
        "\n",
        "  # Decoder\n",
        "  autoencoder.add(Conv2D(8, (3, 3), 1, activation='relu', padding='same'))\n",
        "  autoencoder.add(UpSampling2D((2, 2)))\n",
        "  autoencoder.add(Conv2D(16, (3, 3), 1, activation='relu', padding='same'))\n",
        "  autoencoder.add(UpSampling2D((2, 2)))\n",
        "  autoencoder.add(Conv2D(1, (3, 3), 1, activation='sigmoid', padding='same'))\n",
        "\n",
        "  autoencoder.compile(optimizer='adam', loss='binary_crossentropy')\n",
        "  \n",
        "  return autoencoder\n",
        "\n",
        "autoencoder = build_autoencoder()\n",
        "initial_weights = autoencoder.get_weights()\n",
        "autoencoder.summary()"
      ],
      "execution_count": 15,
      "outputs": [
        {
          "output_type": "stream",
          "text": [
            "_________________________________________________________________\n",
            "Layer (type)                 Output Shape              Param #   \n",
            "=================================================================\n",
            "conv2d_5 (Conv2D)            (None, 28, 28, 16)        160       \n",
            "_________________________________________________________________\n",
            "max_pooling2d_2 (MaxPooling2 (None, 14, 14, 16)        0         \n",
            "_________________________________________________________________\n",
            "conv2d_6 (Conv2D)            (None, 14, 14, 8)         1160      \n",
            "_________________________________________________________________\n",
            "max_pooling2d_3 (MaxPooling2 (None, 7, 7, 8)           0         \n",
            "_________________________________________________________________\n",
            "conv2d_7 (Conv2D)            (None, 7, 7, 8)           584       \n",
            "_________________________________________________________________\n",
            "up_sampling2d_2 (UpSampling2 (None, 14, 14, 8)         0         \n",
            "_________________________________________________________________\n",
            "conv2d_8 (Conv2D)            (None, 14, 14, 16)        1168      \n",
            "_________________________________________________________________\n",
            "up_sampling2d_3 (UpSampling2 (None, 28, 28, 16)        0         \n",
            "_________________________________________________________________\n",
            "conv2d_9 (Conv2D)            (None, 28, 28, 1)         145       \n",
            "=================================================================\n",
            "Total params: 3,217\n",
            "Trainable params: 3,217\n",
            "Non-trainable params: 0\n",
            "_________________________________________________________________\n"
          ],
          "name": "stdout"
        }
      ]
    },
    {
      "metadata": {
        "id": "1Oa-TwSiQ6R1",
        "colab_type": "text"
      },
      "cell_type": "markdown",
      "source": [
        "### ガウシアンノイズを用いて学習"
      ]
    },
    {
      "metadata": {
        "id": "w-KOqyRcQ6R3",
        "colab_type": "code",
        "outputId": "80c5a192-445c-4a6a-d8a7-386673c71a7a",
        "colab": {
          "base_uri": "https://localhost:8080/",
          "height": 221
        }
      },
      "cell_type": "code",
      "source": [
        "autoencoder.fit(\n",
        "                x_train_gauss, # 入力：ガウシアンノイズデータ\n",
        "                x_train,       # 正解：オリジナル画像\n",
        "                epochs=10,     # 学習するエポック回数\n",
        "                batch_size=20, # バッチサイズ\n",
        "                shuffle=True   # シャッフルデータにする\n",
        "               )"
      ],
      "execution_count": 0,
      "outputs": [
        {
          "output_type": "stream",
          "text": [
            "Epoch 1/10\n",
            "60000/60000 [==============================] - 107s 2ms/step - loss: 3.5848\n",
            "Epoch 2/10\n",
            "60000/60000 [==============================] - 107s 2ms/step - loss: 3.0966\n",
            "Epoch 3/10\n",
            "60000/60000 [==============================] - 106s 2ms/step - loss: 3.0178\n",
            "Epoch 4/10\n",
            "60000/60000 [==============================] - 105s 2ms/step - loss: 2.9773\n",
            "Epoch 5/10\n",
            "60000/60000 [==============================] - 105s 2ms/step - loss: 2.9514\n",
            "Epoch 6/10\n",
            "56440/60000 [===========================>..] - ETA: 6s - loss: 2.9338"
          ],
          "name": "stdout"
        }
      ]
    },
    {
      "metadata": {
        "id": "4xZCZuRfQ6SA",
        "colab_type": "text"
      },
      "cell_type": "markdown",
      "source": [
        "### ガウシアンノイズで学習したモデルでの予測"
      ]
    },
    {
      "metadata": {
        "id": "qSSjgLKYQ6SC",
        "colab_type": "code",
        "colab": {}
      },
      "cell_type": "code",
      "source": [
        "gauss_preds = autoencoder.predict(x_test_gauss)\n",
        "for i in range(3):\n",
        "    display_png(array_to_img(x_test[i]))\n",
        "    display_png(array_to_img(x_test_gauss[i]))\n",
        "    display_png(array_to_img(gauss_preds[i]))\n",
        "    print('-'*25)"
      ],
      "execution_count": 0,
      "outputs": []
    }
  ]
}